{
 "cells": [
  {
   "cell_type": "code",
   "execution_count": 13,
   "metadata": {},
   "outputs": [],
   "source": [
    "# Import required libraries\n",
    "import numpy as np\n",
    "import pandas as pd\n",
    "from sklearn.linear_model import LinearRegression"
   ]
  },
  {
   "cell_type": "markdown",
   "metadata": {},
   "source": [
    "## Load and Visualize the Country Data"
   ]
  },
  {
   "cell_type": "code",
   "execution_count": 14,
   "metadata": {},
   "outputs": [
    {
     "data": {
      "text/html": [
       "<div>\n",
       "<style scoped>\n",
       "    .dataframe tbody tr th:only-of-type {\n",
       "        vertical-align: middle;\n",
       "    }\n",
       "\n",
       "    .dataframe tbody tr th {\n",
       "        vertical-align: top;\n",
       "    }\n",
       "\n",
       "    .dataframe thead th {\n",
       "        text-align: right;\n",
       "    }\n",
       "</style>\n",
       "<table border=\"1\" class=\"dataframe\">\n",
       "  <thead>\n",
       "    <tr style=\"text-align: right;\">\n",
       "      <th></th>\n",
       "      <th>Record Date</th>\n",
       "      <th>Exchange Rate</th>\n",
       "      <th>Effective Date</th>\n",
       "      <th>Country</th>\n",
       "      <th>Currency</th>\n",
       "      <th>Country Name</th>\n",
       "      <th>Country Code</th>\n",
       "      <th>GDPGrowth</th>\n",
       "      <th>Year</th>\n",
       "    </tr>\n",
       "  </thead>\n",
       "  <tbody>\n",
       "    <tr>\n",
       "      <th>0</th>\n",
       "      <td>3/31/01</td>\n",
       "      <td>78400.0</td>\n",
       "      <td>20010331</td>\n",
       "      <td>Afghanistan</td>\n",
       "      <td>Afghani</td>\n",
       "      <td>Afghanistan</td>\n",
       "      <td>AFG</td>\n",
       "      <td>0.000000</td>\n",
       "      <td>2001</td>\n",
       "    </tr>\n",
       "    <tr>\n",
       "      <th>1</th>\n",
       "      <td>6/30/01</td>\n",
       "      <td>73000.0</td>\n",
       "      <td>20010630</td>\n",
       "      <td>Afghanistan</td>\n",
       "      <td>Afghani</td>\n",
       "      <td>Afghanistan</td>\n",
       "      <td>AFG</td>\n",
       "      <td>0.000000</td>\n",
       "      <td>2001</td>\n",
       "    </tr>\n",
       "    <tr>\n",
       "      <th>2</th>\n",
       "      <td>9/30/01</td>\n",
       "      <td>71500.0</td>\n",
       "      <td>20010930</td>\n",
       "      <td>Afghanistan</td>\n",
       "      <td>Afghani</td>\n",
       "      <td>Afghanistan</td>\n",
       "      <td>AFG</td>\n",
       "      <td>0.000000</td>\n",
       "      <td>2001</td>\n",
       "    </tr>\n",
       "    <tr>\n",
       "      <th>3</th>\n",
       "      <td>12/31/01</td>\n",
       "      <td>38200.0</td>\n",
       "      <td>20011231</td>\n",
       "      <td>Afghanistan</td>\n",
       "      <td>Afghani</td>\n",
       "      <td>Afghanistan</td>\n",
       "      <td>AFG</td>\n",
       "      <td>0.000000</td>\n",
       "      <td>2001</td>\n",
       "    </tr>\n",
       "    <tr>\n",
       "      <th>4</th>\n",
       "      <td>3/31/01</td>\n",
       "      <td>142.4</td>\n",
       "      <td>20010331</td>\n",
       "      <td>Albania</td>\n",
       "      <td>Lek</td>\n",
       "      <td>Albania</td>\n",
       "      <td>ALB</td>\n",
       "      <td>8.293313</td>\n",
       "      <td>2001</td>\n",
       "    </tr>\n",
       "  </tbody>\n",
       "</table>\n",
       "</div>"
      ],
      "text/plain": [
       "  Record Date  Exchange Rate  Effective Date      Country Currency  \\\n",
       "0     3/31/01        78400.0        20010331  Afghanistan  Afghani   \n",
       "1     6/30/01        73000.0        20010630  Afghanistan  Afghani   \n",
       "2     9/30/01        71500.0        20010930  Afghanistan  Afghani   \n",
       "3    12/31/01        38200.0        20011231  Afghanistan  Afghani   \n",
       "4     3/31/01          142.4        20010331      Albania      Lek   \n",
       "\n",
       "  Country Name Country Code  GDPGrowth  Year  \n",
       "0  Afghanistan          AFG   0.000000  2001  \n",
       "1  Afghanistan          AFG   0.000000  2001  \n",
       "2  Afghanistan          AFG   0.000000  2001  \n",
       "3  Afghanistan          AFG   0.000000  2001  \n",
       "4      Albania          ALB   8.293313  2001  "
      ]
     },
     "execution_count": 14,
     "metadata": {},
     "output_type": "execute_result"
    }
   ],
   "source": [
    "# Read the country data\n",
    "country_df = pd.read_csv('Resources/result_files/step2_reformat_data_for_analysis.csv')\n",
    "\n",
    "# Display country data\n",
    "country_df.head()"
   ]
  },
  {
   "cell_type": "code",
   "execution_count": 15,
   "metadata": {},
   "outputs": [
    {
     "data": {
      "text/html": [
       "<div>\n",
       "<style scoped>\n",
       "    .dataframe tbody tr th:only-of-type {\n",
       "        vertical-align: middle;\n",
       "    }\n",
       "\n",
       "    .dataframe tbody tr th {\n",
       "        vertical-align: top;\n",
       "    }\n",
       "\n",
       "    .dataframe thead th {\n",
       "        text-align: right;\n",
       "    }\n",
       "</style>\n",
       "<table border=\"1\" class=\"dataframe\">\n",
       "  <thead>\n",
       "    <tr style=\"text-align: right;\">\n",
       "      <th></th>\n",
       "      <th>Record Date</th>\n",
       "      <th>Exchange Rate</th>\n",
       "      <th>Effective Date</th>\n",
       "      <th>Country</th>\n",
       "      <th>Currency</th>\n",
       "      <th>Country Name</th>\n",
       "      <th>Country Code</th>\n",
       "      <th>GDPGrowth</th>\n",
       "      <th>Year</th>\n",
       "    </tr>\n",
       "  </thead>\n",
       "  <tbody>\n",
       "    <tr>\n",
       "      <th>164</th>\n",
       "      <td>3/31/01</td>\n",
       "      <td>3.880</td>\n",
       "      <td>20010331</td>\n",
       "      <td>Egypt</td>\n",
       "      <td>Pound</td>\n",
       "      <td>Egypt</td>\n",
       "      <td>EGY</td>\n",
       "      <td>3.535252</td>\n",
       "      <td>2001</td>\n",
       "    </tr>\n",
       "    <tr>\n",
       "      <th>165</th>\n",
       "      <td>6/30/01</td>\n",
       "      <td>3.886</td>\n",
       "      <td>20010630</td>\n",
       "      <td>Egypt</td>\n",
       "      <td>Pound</td>\n",
       "      <td>Egypt</td>\n",
       "      <td>EGY</td>\n",
       "      <td>3.535252</td>\n",
       "      <td>2001</td>\n",
       "    </tr>\n",
       "    <tr>\n",
       "      <th>166</th>\n",
       "      <td>9/30/01</td>\n",
       "      <td>4.250</td>\n",
       "      <td>20010930</td>\n",
       "      <td>Egypt</td>\n",
       "      <td>Pound</td>\n",
       "      <td>Egypt</td>\n",
       "      <td>EGY</td>\n",
       "      <td>3.535252</td>\n",
       "      <td>2001</td>\n",
       "    </tr>\n",
       "    <tr>\n",
       "      <th>167</th>\n",
       "      <td>12/31/01</td>\n",
       "      <td>4.560</td>\n",
       "      <td>20011231</td>\n",
       "      <td>Egypt</td>\n",
       "      <td>Pound</td>\n",
       "      <td>Egypt</td>\n",
       "      <td>EGY</td>\n",
       "      <td>3.535252</td>\n",
       "      <td>2001</td>\n",
       "    </tr>\n",
       "    <tr>\n",
       "      <th>794</th>\n",
       "      <td>3/31/02</td>\n",
       "      <td>4.620</td>\n",
       "      <td>20020331</td>\n",
       "      <td>Egypt</td>\n",
       "      <td>Pound</td>\n",
       "      <td>Egypt</td>\n",
       "      <td>EGY</td>\n",
       "      <td>2.390204</td>\n",
       "      <td>2002</td>\n",
       "    </tr>\n",
       "  </tbody>\n",
       "</table>\n",
       "</div>"
      ],
      "text/plain": [
       "    Record Date  Exchange Rate  Effective Date Country Currency Country Name  \\\n",
       "164     3/31/01          3.880        20010331   Egypt    Pound        Egypt   \n",
       "165     6/30/01          3.886        20010630   Egypt    Pound        Egypt   \n",
       "166     9/30/01          4.250        20010930   Egypt    Pound        Egypt   \n",
       "167    12/31/01          4.560        20011231   Egypt    Pound        Egypt   \n",
       "794     3/31/02          4.620        20020331   Egypt    Pound        Egypt   \n",
       "\n",
       "    Country Code  GDPGrowth  Year  \n",
       "164          EGY   3.535252  2001  \n",
       "165          EGY   3.535252  2001  \n",
       "166          EGY   3.535252  2001  \n",
       "167          EGY   3.535252  2001  \n",
       "794          EGY   2.390204  2002  "
      ]
     },
     "execution_count": 15,
     "metadata": {},
     "output_type": "execute_result"
    }
   ],
   "source": [
    "# Select Egypt \n",
    "egypt_df = country_df.loc[country_df['Country Code'] == 'EGY']\n",
    "\n",
    "egypt_df.head()"
   ]
  },
  {
   "cell_type": "code",
   "execution_count": 16,
   "metadata": {},
   "outputs": [
    {
     "data": {
      "text/plain": [
       "<Axes: title={'center': 'GDP Growth by Exchange Rate'}, xlabel='Exchange Rate', ylabel='GDPGrowth'>"
      ]
     },
     "execution_count": 16,
     "metadata": {},
     "output_type": "execute_result"
    },
    {
     "data": {
      "image/png": "[encoded data removed]",
      "text/plain": [
       "<Figure size 640x480 with 1 Axes>"
      ]
     },
     "metadata": {},
     "output_type": "display_data"
    }
   ],
   "source": [
    "# Create a scatter plot with the GDP Growth data \n",
    "country_plot = egypt_df.plot.scatter(\n",
    "    x=\"Exchange Rate\",\n",
    "    y=\"GDPGrowth\",\n",
    "    title=\"GDP Growth by Exchange Rate\",\n",
    ")\n",
    "country_plot"
   ]
  },
  {
   "cell_type": "markdown",
   "metadata": {},
   "source": [
    "## Prepare the Data to Fit the Linear Regression Model"
   ]
  },
  {
   "cell_type": "code",
   "execution_count": 17,
   "metadata": {},
   "outputs": [
    {
     "data": {
      "text/plain": [
       "array([[3.88 ],\n",
       "       [3.886],\n",
       "       [4.25 ],\n",
       "       [4.56 ],\n",
       "       [4.62 ]])"
      ]
     },
     "execution_count": 17,
     "metadata": {},
     "output_type": "execute_result"
    }
   ],
   "source": [
    "# Use the 'reshape' function to reshape the X set as a single column array\n",
    "X = egypt_df[\"Exchange Rate\"].values.reshape(-1, 1)\n",
    "\n",
    "# Display the array data\n",
    "X[:5]"
   ]
  },
  {
   "cell_type": "code",
   "execution_count": 18,
   "metadata": {},
   "outputs": [],
   "source": [
    "# Create an array for the dependent variable y with the Exchange Rate data\n",
    "y = egypt_df[\"GDPGrowth\"]"
   ]
  },
  {
   "cell_type": "markdown",
   "metadata": {},
   "source": [
    "## Build the Linear Regression Model"
   ]
  },
  {
   "cell_type": "code",
   "execution_count": 19,
   "metadata": {},
   "outputs": [],
   "source": [
    "# Create a model with scikit-learn\n",
    "model = LinearRegression()"
   ]
  },
  {
   "cell_type": "code",
   "execution_count": 20,
   "metadata": {},
   "outputs": [
    {
     "data": {
      "text/html": [
       "<style>#sk-container-id-1 {color: black;background-color: white;}#sk-container-id-1 pre{padding: 0;}#sk-container-id-1 div.sk-toggleable {background-color: white;}#sk-container-id-1 label.sk-toggleable__label {cursor: pointer;display: block;width: 100%;margin-bottom: 0;padding: 0.3em;box-sizing: border-box;text-align: center;}#sk-container-id-1 label.sk-toggleable__label-arrow:before {content: \"▸\";float: left;margin-right: 0.25em;color: #696969;}#sk-container-id-1 label.sk-toggleable__label-arrow:hover:before {color: black;}#sk-container-id-1 div.sk-estimator:hover label.sk-toggleable__label-arrow:before {color: black;}#sk-container-id-1 div.sk-toggleable__content {max-height: 0;max-width: 0;overflow: hidden;text-align: left;background-color: #f0f8ff;}#sk-container-id-1 div.sk-toggleable__content pre {margin: 0.2em;color: black;border-radius: 0.25em;background-color: #f0f8ff;}#sk-container-id-1 input.sk-toggleable__control:checked~div.sk-toggleable__content {max-height: 200px;max-width: 100%;overflow: auto;}#sk-container-id-1 input.sk-toggleable__control:checked~label.sk-toggleable__label-arrow:before {content: \"▾\";}#sk-container-id-1 div.sk-estimator input.sk-toggleable__control:checked~label.sk-toggleable__label {background-color: #d4ebff;}#sk-container-id-1 div.sk-label input.sk-toggleable__control:checked~label.sk-toggleable__label {background-color: #d4ebff;}#sk-container-id-1 input.sk-hidden--visually {border: 0;clip: rect(1px 1px 1px 1px);clip: rect(1px, 1px, 1px, 1px);height: 1px;margin: -1px;overflow: hidden;padding: 0;position: absolute;width: 1px;}#sk-container-id-1 div.sk-estimator {font-family: monospace;background-color: #f0f8ff;border: 1px dotted black;border-radius: 0.25em;box-sizing: border-box;margin-bottom: 0.5em;}#sk-container-id-1 div.sk-estimator:hover {background-color: #d4ebff;}#sk-container-id-1 div.sk-parallel-item::after {content: \"\";width: 100%;border-bottom: 1px solid gray;flex-grow: 1;}#sk-container-id-1 div.sk-label:hover label.sk-toggleable__label {background-color: #d4ebff;}#sk-container-id-1 div.sk-serial::before {content: \"\";position: absolute;border-left: 1px solid gray;box-sizing: border-box;top: 0;bottom: 0;left: 50%;z-index: 0;}#sk-container-id-1 div.sk-serial {display: flex;flex-direction: column;align-items: center;background-color: white;padding-right: 0.2em;padding-left: 0.2em;position: relative;}#sk-container-id-1 div.sk-item {position: relative;z-index: 1;}#sk-container-id-1 div.sk-parallel {display: flex;align-items: stretch;justify-content: center;background-color: white;position: relative;}#sk-container-id-1 div.sk-item::before, #sk-container-id-1 div.sk-parallel-item::before {content: \"\";position: absolute;border-left: 1px solid gray;box-sizing: border-box;top: 0;bottom: 0;left: 50%;z-index: -1;}#sk-container-id-1 div.sk-parallel-item {display: flex;flex-direction: column;z-index: 1;position: relative;background-color: white;}#sk-container-id-1 div.sk-parallel-item:first-child::after {align-self: flex-end;width: 50%;}#sk-container-id-1 div.sk-parallel-item:last-child::after {align-self: flex-start;width: 50%;}#sk-container-id-1 div.sk-parallel-item:only-child::after {width: 0;}#sk-container-id-1 div.sk-dashed-wrapped {border: 1px dashed gray;margin: 0 0.4em 0.5em 0.4em;box-sizing: border-box;padding-bottom: 0.4em;background-color: white;}#sk-container-id-1 div.sk-label label {font-family: monospace;font-weight: bold;display: inline-block;line-height: 1.2em;}#sk-container-id-1 div.sk-label-container {text-align: center;}#sk-container-id-1 div.sk-container {/* jupyter's `normalize.less` sets `[hidden] { display: none; }` but bootstrap.min.css set `[hidden] { display: none !important; }` so we also need the `!important` here to be able to override the default hidden behavior on the sphinx rendered scikit-learn.org. See: https://github.com/scikit-learn/scikit-learn/issues/21755 */display: inline-block !important;position: relative;}#sk-container-id-1 div.sk-text-repr-fallback {display: none;}</style><div id=\"sk-container-id-1\" class=\"sk-top-container\"><div class=\"sk-text-repr-fallback\"><pre>LinearRegression()</pre><b>In a Jupyter environment, please rerun this cell to show the HTML representation or trust the notebook. <br />On GitHub, the HTML representation is unable to render, please try loading this page with nbviewer.org.</b></div><div class=\"sk-container\" hidden><div class=\"sk-item\"><div class=\"sk-estimator sk-toggleable\"><input class=\"sk-toggleable__control sk-hidden--visually\" id=\"sk-estimator-id-1\" type=\"checkbox\" checked><label for=\"sk-estimator-id-1\" class=\"sk-toggleable__label sk-toggleable__label-arrow\">LinearRegression</label><div class=\"sk-toggleable__content\"><pre>LinearRegression()</pre></div></div></div></div></div>"
      ],
      "text/plain": [
       "LinearRegression()"
      ]
     },
     "execution_count": 20,
     "metadata": {},
     "output_type": "execute_result"
    }
   ],
   "source": [
    "# Fit the data into the model\n",
    "model.fit(X, y)"
   ]
  },
  {
   "cell_type": "code",
   "execution_count": 21,
   "metadata": {},
   "outputs": [
    {
     "name": "stdout",
     "output_type": "stream",
     "text": [
      "Model's slope: [-0.08086023]\n"
     ]
    }
   ],
   "source": [
    "# Display the slope\n",
    "print(f\"Model's slope: {model.coef_}\")"
   ]
  },
  {
   "cell_type": "code",
   "execution_count": 22,
   "metadata": {},
   "outputs": [
    {
     "name": "stdout",
     "output_type": "stream",
     "text": [
      "Model's y-intercept: 4.734248230576621\n"
     ]
    }
   ],
   "source": [
    "# Display the y-intercept\n",
    "print(f\"Model's y-intercept: {model.intercept_}\")"
   ]
  },
  {
   "cell_type": "code",
   "execution_count": 23,
   "metadata": {},
   "outputs": [
    {
     "name": "stdout",
     "output_type": "stream",
     "text": [
      "Model's formula: y = 4.734248230576621 + -0.08086022902182277X\n"
     ]
    }
   ],
   "source": [
    "# Display the model's best fit line formula\n",
    "print(f\"Model's formula: y = {model.intercept_} + {model.coef_[0]}X\")"
   ]
  },
  {
   "cell_type": "markdown",
   "metadata": {},
   "source": [
    "## Plot the Best Fit Line for the GDP Growth Prediction Model"
   ]
  },
  {
   "cell_type": "code",
   "execution_count": 24,
   "metadata": {},
   "outputs": [],
   "source": [
    "# Make predictions using the X set\n",
    "predicted_y_values = model.predict(X)"
   ]
  },
  {
   "cell_type": "code",
   "execution_count": 25,
   "metadata": {},
   "outputs": [
    {
     "data": {
      "text/html": [
       "<div>\n",
       "<style scoped>\n",
       "    .dataframe tbody tr th:only-of-type {\n",
       "        vertical-align: middle;\n",
       "    }\n",
       "\n",
       "    .dataframe tbody tr th {\n",
       "        vertical-align: top;\n",
       "    }\n",
       "\n",
       "    .dataframe thead th {\n",
       "        text-align: right;\n",
       "    }\n",
       "</style>\n",
       "<table border=\"1\" class=\"dataframe\">\n",
       "  <thead>\n",
       "    <tr style=\"text-align: right;\">\n",
       "      <th></th>\n",
       "      <th>Record Date</th>\n",
       "      <th>Exchange Rate</th>\n",
       "      <th>Effective Date</th>\n",
       "      <th>Country</th>\n",
       "      <th>Currency</th>\n",
       "      <th>Country Name</th>\n",
       "      <th>Country Code</th>\n",
       "      <th>GDPGrowth</th>\n",
       "      <th>Year</th>\n",
       "      <th>gdpg_predicted</th>\n",
       "    </tr>\n",
       "  </thead>\n",
       "  <tbody>\n",
       "    <tr>\n",
       "      <th>164</th>\n",
       "      <td>3/31/01</td>\n",
       "      <td>3.880</td>\n",
       "      <td>20010331</td>\n",
       "      <td>Egypt</td>\n",
       "      <td>Pound</td>\n",
       "      <td>Egypt</td>\n",
       "      <td>EGY</td>\n",
       "      <td>3.535252</td>\n",
       "      <td>2001</td>\n",
       "      <td>4.420511</td>\n",
       "    </tr>\n",
       "    <tr>\n",
       "      <th>165</th>\n",
       "      <td>6/30/01</td>\n",
       "      <td>3.886</td>\n",
       "      <td>20010630</td>\n",
       "      <td>Egypt</td>\n",
       "      <td>Pound</td>\n",
       "      <td>Egypt</td>\n",
       "      <td>EGY</td>\n",
       "      <td>3.535252</td>\n",
       "      <td>2001</td>\n",
       "      <td>4.420025</td>\n",
       "    </tr>\n",
       "    <tr>\n",
       "      <th>166</th>\n",
       "      <td>9/30/01</td>\n",
       "      <td>4.250</td>\n",
       "      <td>20010930</td>\n",
       "      <td>Egypt</td>\n",
       "      <td>Pound</td>\n",
       "      <td>Egypt</td>\n",
       "      <td>EGY</td>\n",
       "      <td>3.535252</td>\n",
       "      <td>2001</td>\n",
       "      <td>4.390592</td>\n",
       "    </tr>\n",
       "    <tr>\n",
       "      <th>167</th>\n",
       "      <td>12/31/01</td>\n",
       "      <td>4.560</td>\n",
       "      <td>20011231</td>\n",
       "      <td>Egypt</td>\n",
       "      <td>Pound</td>\n",
       "      <td>Egypt</td>\n",
       "      <td>EGY</td>\n",
       "      <td>3.535252</td>\n",
       "      <td>2001</td>\n",
       "      <td>4.365526</td>\n",
       "    </tr>\n",
       "    <tr>\n",
       "      <th>794</th>\n",
       "      <td>3/31/02</td>\n",
       "      <td>4.620</td>\n",
       "      <td>20020331</td>\n",
       "      <td>Egypt</td>\n",
       "      <td>Pound</td>\n",
       "      <td>Egypt</td>\n",
       "      <td>EGY</td>\n",
       "      <td>2.390204</td>\n",
       "      <td>2002</td>\n",
       "      <td>4.360674</td>\n",
       "    </tr>\n",
       "  </tbody>\n",
       "</table>\n",
       "</div>"
      ],
      "text/plain": [
       "    Record Date  Exchange Rate  Effective Date Country Currency Country Name  \\\n",
       "164     3/31/01          3.880        20010331   Egypt    Pound        Egypt   \n",
       "165     6/30/01          3.886        20010630   Egypt    Pound        Egypt   \n",
       "166     9/30/01          4.250        20010930   Egypt    Pound        Egypt   \n",
       "167    12/31/01          4.560        20011231   Egypt    Pound        Egypt   \n",
       "794     3/31/02          4.620        20020331   Egypt    Pound        Egypt   \n",
       "\n",
       "    Country Code  GDPGrowth  Year  gdpg_predicted  \n",
       "164          EGY   3.535252  2001        4.420511  \n",
       "165          EGY   3.535252  2001        4.420025  \n",
       "166          EGY   3.535252  2001        4.390592  \n",
       "167          EGY   3.535252  2001        4.365526  \n",
       "794          EGY   2.390204  2002        4.360674  "
      ]
     },
     "execution_count": 25,
     "metadata": {},
     "output_type": "execute_result"
    }
   ],
   "source": [
    "# Create a copy of the original data\n",
    "egypt_gdpg_predicted = egypt_df.copy()\n",
    "\n",
    "# Add a column with the predicted gdp values\n",
    "egypt_gdpg_predicted[\"gdpg_predicted\"] = predicted_y_values\n",
    "\n",
    "# Display sample data\n",
    "egypt_gdpg_predicted.head()"
   ]
  },
  {
   "cell_type": "code",
   "execution_count": 26,
   "metadata": {},
   "outputs": [
    {
     "data": {
      "text/plain": [
       "<Axes: xlabel='Exchange Rate'>"
      ]
     },
     "execution_count": 26,
     "metadata": {},
     "output_type": "execute_result"
    },
    {
     "data": {
      "image/png": "[encoded data removed]",
      "text/plain": [
       "<Figure size 640x480 with 1 Axes>"
      ]
     },
     "metadata": {},
     "output_type": "display_data"
    }
   ],
   "source": [
    "# Create a line plot of the predicted GDP Growth values\n",
    "best_fit_line = egypt_gdpg_predicted.plot.line(\n",
    "    x = \"Exchange Rate\",\n",
    "    y = \"gdpg_predicted\",\n",
    "    color = \"blue\"\n",
    ")\n",
    "best_fit_line"
   ]
  },
  {
   "cell_type": "code",
   "execution_count": 27,
   "metadata": {},
   "outputs": [
    {
     "data": {
      "text/plain": [
       "<Axes: title={'center': 'GDP Growth and Exchange Rate'}, xlabel='Exchange Rate', ylabel='GDPGrowth'>"
      ]
     },
     "execution_count": 27,
     "metadata": {},
     "output_type": "execute_result"
    },
    {
     "data": {
      "image/png": "[encoded data removed]",
      "text/plain": [
       "<Figure size 640x480 with 1 Axes>"
      ]
     },
     "metadata": {},
     "output_type": "display_data"
    }
   ],
   "source": [
    "# Superpose the original data and the best fit line\n",
    "# Create a scatter plot with the gdp growth information\n",
    "gdpg_plot = egypt_gdpg_predicted.plot.scatter(\n",
    "    x=\"Exchange Rate\",\n",
    "    y=\"GDPGrowth\",\n",
    "    title=\"GDP Growth and Exchange Rate\",\n",
    ")\n",
    "\n",
    "best_fit_line =egypt_gdpg_predicted.plot.line(\n",
    "    x = \"Exchange Rate\",\n",
    "    y = \"gdpg_predicted\",\n",
    "    color = \"blue\",\n",
    "    ax=gdpg_plot\n",
    ")\n",
    "gdpg_plot"
   ]
  },
  {
   "cell_type": "markdown",
   "metadata": {},
   "source": [
    "## Manual Predictions"
   ]
  },
  {
   "cell_type": "code",
   "execution_count": 28,
   "metadata": {},
   "outputs": [
    {
     "name": "stdout",
     "output_type": "stream",
     "text": [
      "Model's formula: y = 4.734248230576621 + -0.08086022902182277 * 47.2211\n",
      "Predicted GDP Growth on May 31, 2024: 0.92\n"
     ]
    }
   ],
   "source": [
    "# Formula to predict the GDP Growth on a given date\n",
    "# At close on May 31, 2024 the USD/EGP = 47.2211\n",
    "print(f\"Model's formula: y = {model.intercept_} + {model.coef_[0]} * 47.2211\")\n",
    "\n",
    "# Predict the GDP Growth on May 31, 2024 Close\n",
    "may_31_2024 = model.intercept_ + model.coef_[0] * 47.2211\n",
    "\n",
    "# Display the prediction\n",
    "print(f\"Predicted GDP Growth on May 31, 2024: {may_31_2024:.2f}\")"
   ]
  },
  {
   "cell_type": "markdown",
   "metadata": {},
   "source": [
    "## Make Predictions Using the `predict` Function"
   ]
  },
  {
   "cell_type": "code",
   "execution_count": 29,
   "metadata": {},
   "outputs": [
    {
     "data": {
      "text/plain": [
       "array([[50],\n",
       "       [55],\n",
       "       [60],\n",
       "       [65],\n",
       "       [70]])"
      ]
     },
     "execution_count": 29,
     "metadata": {},
     "output_type": "execute_result"
    }
   ],
   "source": [
    "# Array to predict GDP Growth when Egyptian Pound is at 50, 55, 60, 65 and 70 to the USD.\n",
    "X_exc = np.array([50, 55, 60, 65, 70])\n",
    "\n",
    "# Format the array as a one-column array\n",
    "X_exc = X_exc.reshape(-1,1)\n",
    "\n",
    "# Display sample data\n",
    "X_exc"
   ]
  },
  {
   "cell_type": "code",
   "execution_count": 30,
   "metadata": {},
   "outputs": [],
   "source": [
    "# Predict GDP Growth for 50, 55, 60, 65 and 70 Egyptian Pounds to the USD.\n",
    "predicted_gdpg = model.predict(X_exc)"
   ]
  },
  {
   "cell_type": "code",
   "execution_count": 31,
   "metadata": {},
   "outputs": [
    {
     "data": {
      "text/html": [
       "<div>\n",
       "<style scoped>\n",
       "    .dataframe tbody tr th:only-of-type {\n",
       "        vertical-align: middle;\n",
       "    }\n",
       "\n",
       "    .dataframe tbody tr th {\n",
       "        vertical-align: top;\n",
       "    }\n",
       "\n",
       "    .dataframe thead th {\n",
       "        text-align: right;\n",
       "    }\n",
       "</style>\n",
       "<table border=\"1\" class=\"dataframe\">\n",
       "  <thead>\n",
       "    <tr style=\"text-align: right;\">\n",
       "      <th></th>\n",
       "      <th>Exchange Rate</th>\n",
       "      <th>predicted_gdpg</th>\n",
       "    </tr>\n",
       "  </thead>\n",
       "  <tbody>\n",
       "    <tr>\n",
       "      <th>0</th>\n",
       "      <td>50</td>\n",
       "      <td>0.691237</td>\n",
       "    </tr>\n",
       "    <tr>\n",
       "      <th>1</th>\n",
       "      <td>55</td>\n",
       "      <td>0.286936</td>\n",
       "    </tr>\n",
       "    <tr>\n",
       "      <th>2</th>\n",
       "      <td>60</td>\n",
       "      <td>-0.117366</td>\n",
       "    </tr>\n",
       "    <tr>\n",
       "      <th>3</th>\n",
       "      <td>65</td>\n",
       "      <td>-0.521667</td>\n",
       "    </tr>\n",
       "    <tr>\n",
       "      <th>4</th>\n",
       "      <td>70</td>\n",
       "      <td>-0.925968</td>\n",
       "    </tr>\n",
       "  </tbody>\n",
       "</table>\n",
       "</div>"
      ],
      "text/plain": [
       "   Exchange Rate  predicted_gdpg\n",
       "0             50        0.691237\n",
       "1             55        0.286936\n",
       "2             60       -0.117366\n",
       "3             65       -0.521667\n",
       "4             70       -0.925968"
      ]
     },
     "execution_count": 31,
     "metadata": {},
     "output_type": "execute_result"
    }
   ],
   "source": [
    "# Create a DataFrame for the predicted GDP Growhth values\n",
    "df_predicted_gdpg = pd.DataFrame(\n",
    "    {\n",
    "        \"Exchange Rate\": X_exc.reshape(1, -1)[0],\n",
    "        \"predicted_gdpg\": predicted_gdpg\n",
    "    }\n",
    ")\n",
    "\n",
    "# Display data\n",
    "df_predicted_gdpg"
   ]
  },
  {
   "cell_type": "code",
   "execution_count": null,
   "metadata": {},
   "outputs": [],
   "source": []
  }
 ],
 "metadata": {
  "kernelspec": {
   "display_name": "Python 3 (ipykernel)",
   "language": "python",
   "name": "python3"
  },
  "language_info": {
   "codemirror_mode": {
    "name": "ipython",
    "version": 3
   },
   "file_extension": ".py",
   "mimetype": "text/x-python",
   "name": "python",
   "nbconvert_exporter": "python",
   "pygments_lexer": "ipython3",
   "version": "3.11.7"
  },
  "nteract": {
   "version": "0.28.0"
  },
  "vscode": {
   "interpreter": {
    "hash": "40d3a090f54c6569ab1632332b64b2c03c39dcf918b08424e98f38b5ae0af88f"
   }
  }
 },
 "nbformat": 4,
 "nbformat_minor": 4
}
